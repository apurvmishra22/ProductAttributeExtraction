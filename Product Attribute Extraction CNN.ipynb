{
 "cells": [
  {
   "cell_type": "markdown",
   "metadata": {
    "id": "WKrpjZbtNYtT"
   },
   "source": [
    "## Product attribute Extraction\n",
    "\n"
   ]
  },
  {
   "cell_type": "markdown",
   "metadata": {
    "id": "oCnkTG1XNqoB"
   },
   "source": [
    "Library"
   ]
  },
  {
   "cell_type": "code",
   "execution_count": null,
   "metadata": {
    "id": "pr9UYOfl9Y0g"
   },
   "outputs": [],
   "source": [
    "import tensorflow as tf\n",
    "#from tensorflow.keras.layers import Input, Dense, Embedding, Flatten \n",
    "from tensorflow.keras.models import Model\n",
    "#from tensorflow.keras.optimizers import SGD\n",
    "import numpy as np\n",
    "import pandas as pd\n",
    "from sklearn.model_selection import train_test_split\n",
    "from keras.preprocessing.text import Tokenizer\n",
    "from keras.preprocessing.sequence import pad_sequences\n",
    "from keras.models import Sequential\n",
    "from keras.layers import *\n",
    "from keras.initializers import Constant\n",
    "import keras.backend as K\n",
    "from tensorflow.keras import models"
   ]
  },
  {
   "cell_type": "markdown",
   "metadata": {
    "id": "xxEw9LK0NtVS"
   },
   "source": [
    "Dataset"
   ]
  },
  {
   "cell_type": "code",
   "execution_count": null,
   "metadata": {
    "id": "Bin-UnoZ9t7C"
   },
   "outputs": [],
   "source": [
    "dataset = pd.read_csv('Train.csv')\n"
   ]
  },
  {
   "cell_type": "markdown",
   "metadata": {
    "id": "4kMB1C0-hkLW"
   },
   "source": [
    "Dataset Visualization"
   ]
  },
  {
   "cell_type": "code",
   "execution_count": null,
   "metadata": {
    "colab": {
     "base_uri": "https://localhost:8080/",
     "height": 204
    },
    "id": "PgZCMUN597Bo",
    "outputId": "5bbcda2e-565e-4ef2-de2c-2a4a5ea186c0"
   },
   "outputs": [],
   "source": [
    "dataset.head()"
   ]
  },
  {
   "cell_type": "markdown",
   "metadata": {
    "id": "LiTF6vZTh1-f"
   },
   "source": [
    "Taking the important features of the dataset for further processing"
   ]
  },
  {
   "cell_type": "code",
   "execution_count": null,
   "metadata": {
    "colab": {
     "base_uri": "https://localhost:8080/",
     "height": 204
    },
    "id": "KuE_YDXH97wt",
    "outputId": "d77484c1-375d-43b7-ad83-6bbcd073bb66"
   },
   "outputs": [],
   "source": [
    "dataset= dataset[['title','brand']]\n",
    "dataset.head()"
   ]
  },
  {
   "cell_type": "markdown",
   "metadata": {
    "id": "zhKG1fW4U4fE"
   },
   "source": [
    "Tokenizer"
   ]
  },
  {
   "cell_type": "code",
   "execution_count": null,
   "metadata": {
    "id": "qG1nhusr9-X8"
   },
   "outputs": [],
   "source": [
    "featurestoCare = 20000\n",
    "MAX_SEQUENCE_LENGTH=50\n",
    "tokens = Tokenizer(num_words=featurestoCare)\n",
    "tokens.fit_on_texts(dataset['title'].values)\n",
    "x = tokens.texts_to_sequences(dataset['title'].values)\n",
    "x = pad_sequences(x)\n",
    "tokens.fit_on_texts(dataset['brand'].values)\n",
    "y = tokens.texts_to_sequences(dataset['brand'].values)\n",
    "y = pad_sequences(y)\n",
    "y=y[:,2:]"
   ]
  },
  {
   "cell_type": "code",
   "execution_count": null,
   "metadata": {
    "colab": {
     "base_uri": "https://localhost:8080/"
    },
    "id": "L-TLsATnJJ3Z",
    "outputId": "94484a4b-f8bc-46d9-9aa1-0d54f50e971c"
   },
   "outputs": [],
   "source": [
    "y[10]"
   ]
  },
  {
   "cell_type": "markdown",
   "metadata": {
    "id": "blCoEAKgh6uH"
   },
   "source": [
    "Train Test Splitting"
   ]
  },
  {
   "cell_type": "code",
   "execution_count": null,
   "metadata": {
    "id": "ry7PcnDh-BpD"
   },
   "outputs": [],
   "source": [
    "X_train, X_test, y_train, y_test = train_test_split(x, y, test_size=0.1)\n"
   ]
  },
  {
   "cell_type": "markdown",
   "metadata": {
    "id": "jJPwHnfiiAPr"
   },
   "source": [
    "Word Embedding"
   ]
  },
  {
   "cell_type": "code",
   "execution_count": null,
   "metadata": {
    "colab": {
     "base_uri": "https://localhost:8080/"
    },
    "id": "LHR2Iqma-IO8",
    "outputId": "20fb96e0-12ef-4393-ee7d-01117af6f747"
   },
   "outputs": [],
   "source": [
    "word_index = tokens.word_index\n",
    "print('Found %s unique tokens.' % len(word_index))"
   ]
  },
  {
   "cell_type": "code",
   "execution_count": null,
   "metadata": {
    "id": "UMfgvdoI-Mqa"
   },
   "outputs": [],
   "source": [
    "# Word Embedding \n",
    "embedding_dim = 1000\n",
    "num_words = min(featurestoCare, len(word_index)) + 1\n",
    "# first create a matrix of zeros, this is our embedding matrix\n",
    "embedding_matrix = np.zeros((num_words, embedding_dim))\n",
    "# for each word in out tokenizer lets try to find that work in our w2v model\n",
    "for word, i in word_index.items():\n",
    "    if i > num_words:\n",
    "        continue\n",
    "    embedding_vector = embeddings_index.get(word)\n",
    "    if embedding_vector is not None:\n",
    "        # we found the word - add that words vector to the matrix\n",
    "        embedding_matrix[i] = embedding_vector"
   ]
  },
  {
   "cell_type": "code",
   "execution_count": null,
   "metadata": {
    "id": "XPV0LTa3-Q1R"
   },
   "outputs": [],
   "source": [
    "# Embedding Layer\n",
    "embedding_layer=Embedding(num_words,\n",
    "                    embedding_dim,\n",
    "                    embeddings_initializer=Constant(embedding_matrix),\n",
    "                    trainable=True)"
   ]
  },
  {
   "cell_type": "markdown",
   "metadata": {
    "id": "eJ8JGcdYiHhO"
   },
   "source": [
    "CNN Model"
   ]
  },
  {
   "cell_type": "code",
   "execution_count": null,
   "metadata": {
    "colab": {
     "base_uri": "https://localhost:8080/"
    },
    "id": "Q_q0CSb4-To4",
    "outputId": "bcbffa7a-65cc-4843-d20a-5bb36913ac25"
   },
   "outputs": [],
   "source": [
    "# CNN Model \n",
    "sequence_input = Input(shape=(21,), dtype='int32')\n",
    "embedded_sequences = embedding_layer(sequence_input)\n",
    "\n",
    "#Convolution Layer\n",
    "x = Conv1D(128, 3, activation='relu')(embedded_sequences)\n",
    "\n",
    "x = Conv1D(64, 3, activation='relu')(x)\n",
    "\n",
    "x = Conv1D(64, 3, activation='relu')(x)\n",
    "x = Conv1D(64, 3, activation='relu')(x)\n",
    "\n",
    "x = Flatten()(x)\n",
    "\n",
    "#Dense Layer\n",
    "x = Dense(64, activation='relu')(x)\n",
    "preds = Dense(3, activation='softmax')(x)\n",
    "\n",
    "model = Model(sequence_input, preds)\n",
    "\n",
    "#Optimizer\n",
    "#sgd=K.SGD(learning_rate=1e-5, momentum=0.5)\n",
    "\n",
    "#Model Compilation\n",
    "model.compile(loss='categorical_crossentropy',\n",
    "              optimizer='Adam',\n",
    "              metrics=['acc'])\n",
    "\n",
    "#Model Fitting\n",
    "# # model.fit(X_train, y_train, validation_data=(X_test, y_test),\n",
    "#           epochs=10, batch_size=32)"
   ]
  },
  {
   "cell_type": "markdown",
   "metadata": {
    "id": "TmmV64WbiaEN"
   },
   "source": [
    "Model Summary"
   ]
  },
  {
   "cell_type": "code",
   "execution_count": null,
   "metadata": {
    "colab": {
     "base_uri": "https://localhost:8080/"
    },
    "id": "Mp_N1a7qMMyv",
    "outputId": "d61ef662-5fc8-4688-bc4d-1a8be95f6e54"
   },
   "outputs": [],
   "source": [
    "model.summary()"
   ]
  },
  {
   "cell_type": "markdown",
   "metadata": {
    "id": "vfU-G-ciic2U"
   },
   "source": [
    "Prediction"
   ]
  },
  {
   "cell_type": "code",
   "execution_count": null,
   "metadata": {
    "id": "TpiYC87jkRIn"
   },
   "outputs": [],
   "source": [
    "pred=model.predict(X_test)\n"
   ]
  },
  {
   "cell_type": "code",
   "execution_count": null,
   "metadata": {
    "colab": {
     "base_uri": "https://localhost:8080/"
    },
    "id": "rsaORWnqhciy",
    "outputId": "ed22d3a1-6208-494e-d8a9-fc3d5121eb2f"
   },
   "outputs": [],
   "source": [
    "print(pred)"
   ]
  },
  {
   "cell_type": "code",
   "execution_count": null,
   "metadata": {},
   "outputs": [],
   "source": []
  }
 ],
 "metadata": {
  "colab": {
   "collapsed_sections": [],
   "name": "EE769_Project_CNN.ipynb",
   "provenance": []
  },
  "kernelspec": {
   "display_name": "Python 3",
   "language": "python",
   "name": "python3"
  },
  "language_info": {
   "codemirror_mode": {
    "name": "ipython",
    "version": 3
   },
   "file_extension": ".py",
   "mimetype": "text/x-python",
   "name": "python",
   "nbconvert_exporter": "python",
   "pygments_lexer": "ipython3",
   "version": "3.8.5"
  }
 },
 "nbformat": 4,
 "nbformat_minor": 1
}
